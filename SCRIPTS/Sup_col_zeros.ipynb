{
 "cells": [
  {
   "cell_type": "code",
   "execution_count": 7,
   "id": "41642fcb-9f08-461e-9f22-aae96b44af97",
   "metadata": {},
   "outputs": [],
   "source": [
    "import pandas as pd\n",
    "#data = pd.read_csv(\"B.csv\")\n",
    "import copy\n",
    "\n",
    "def enlever_les_zeros(name_file):\n",
    "    #On récupère le fichier csv et les données qui le concerne\n",
    "    dataframe = pd.read_csv(name_file)\n",
    "    long_avant_modif = len(dataframe.columns)\n",
    "    premieres_colonnes = dataframe[dataframe.columns[0:8].values]\n",
    "    #print(premieres_colonnes)\n",
    "    \n",
    "    #On enlève les colonnes qui ne sont pas à traiter\n",
    "    for elt in dataframe.columns[0:8].values:\n",
    "        dataframe = dataframe.drop(columns=elt)\n",
    "    \n",
    "    #On fait la somlme cumulatiove sur l'axe des ordonnées\n",
    "    cumsum = dataframe.cumsum(axis = 0).iloc[-1]\n",
    "    liste_colonne_a_enlever = []\n",
    "    for i in range(len(cumsum)):\n",
    "        if cumsum[i] == 0:\n",
    "            liste_colonne_a_enlever.append(dataframe.columns[i])\n",
    "    for name in liste_colonne_a_enlever:\n",
    "        dataframe = dataframe.drop(columns = name)\n",
    "    dataframe = pd.concat([premieres_colonnes,dataframe],axis = 1)\n",
    "    dataframe.to_csv(name_file[:-4]+f\"_traite_{len(liste_colonne_a_enlever)}.csv\")\n",
    "    print(len(liste_colonne_a_enlever)/long_avant_modif)\n",
    "    return dataframe\n",
    "\n",
    "enlever_les_zeros(\"../DONNEES/B.csv\")\n",
    "enlever_les_zeros(\"../DONNEES/C.csv\")\n",
    "enlever_les_zeros(\"../DONNEES/D.csv\")"
   ]
  }
 ],
 "metadata": {
  "kernelspec": {
   "display_name": "Python 3 (ipykernel)",
   "language": "python",
   "name": "python3"
  },
  "language_info": {
   "codemirror_mode": {
    "name": "ipython",
    "version": 3
   },
   "file_extension": ".py",
   "mimetype": "text/x-python",
   "name": "python",
   "nbconvert_exporter": "python",
   "pygments_lexer": "ipython3",
   "version": "3.11.4"
  }
 },
 "nbformat": 4,
 "nbformat_minor": 5
}
